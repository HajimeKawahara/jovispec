{
 "cells": [
  {
   "cell_type": "code",
   "execution_count": 3,
   "metadata": {
    "collapsed": false
   },
   "outputs": [
    {
     "name": "stdout",
     "output_type": "stream",
     "text": [
      "The autoreload extension is already loaded. To reload it, use:\n",
      "  %reload_ext autoreload\n"
     ]
    }
   ],
   "source": [
    "%load_ext autoreload\n",
    "%autoreload 2\n",
    "\n",
    "import numpy as np\n",
    "import matplotlib\n",
    "from matplotlib.ticker import FormatStrFormatter\n",
    "import matplotlib.pyplot as plt\n",
    "import pylab\n",
    "#import peakutils\n",
    "#from peakutils.plot import plot as pplot\n",
    "#from detect_peaks import detect_peaks\n",
    "from decimal import *\n",
    "from astropy.io import fits\n",
    "\n",
    "# from specutils import Spectrum1D"
   ]
  },
  {
   "cell_type": "code",
   "execution_count": 23,
   "metadata": {
    "collapsed": true
   },
   "outputs": [],
   "source": [
    "%matplotlib osx"
   ]
  },
  {
   "cell_type": "code",
   "execution_count": 4,
   "metadata": {
    "collapsed": true
   },
   "outputs": [],
   "source": [
    "### read spectra\n",
    "def read_qfits(fitsnum,dir,ext=\"q\"):\n",
    "    #read scombined spectra                                                                                  \n",
    "    getcontext().prec = 15\n",
    "    pfits=dir+\"/\"+ext+fitsnum+\".fits\"\n",
    "    hduread=fits.open(pfits)\n",
    "    crval1=hduread[0].header[\"CRVAL1\"]\n",
    "    cd1_1=hduread[0].header[\"CD1_1\"]\n",
    "    data=hduread[0].data\n",
    "\n",
    "    lamb=[]\n",
    "    for i in range(0,len(data)):\n",
    "        lamtmp=Decimal(crval1)+i*Decimal(cd1_1)\n",
    "        lamb.append(lamtmp)\n",
    "    lamb=np.array(lamb)\n",
    "    spec=np.array(data)\n",
    "    hduread.close()\n",
    "\n",
    "    return lamb, spec, hduread[0].header"
   ]
  },
  {
   "cell_type": "code",
   "execution_count": 5,
   "metadata": {
    "collapsed": false
   },
   "outputs": [
    {
     "name": "stderr",
     "output_type": "stream",
     "text": [
      "WARNING: VerifyWarning: Invalid 'BLANK' keyword in header.  The 'BLANK' keyword is only applicable to integer data, and will be ignored in this HDU. [astropy.io.fits.hdu.image]\n"
     ]
    }
   ],
   "source": [
    "lambc, specc, headc=read_qfits(\"06034\",\"../jupiter_data\",ext=\"q\")\n",
    "lambw, specw, headw=read_qfits(\"06048\",\"../jupiter_data\",ext=\"q\")\n",
    "lambe, spece, heade=read_qfits(\"06050\",\"../jupiter_data\",ext=\"q\")\n",
    "\n",
    "rlambc, rspecc, rheadc=read_qfits(\"06033\",\"../jupiter_data\",ext=\"q\")\n",
    "rlambw, rspecw, rheadw=read_qfits(\"06047\",\"../jupiter_data\",ext=\"q\")\n",
    "rlambe, rspece, rheade=read_qfits(\"06049\",\"../jupiter_data\",ext=\"q\")"
   ]
  },
  {
   "cell_type": "code",
   "execution_count": 6,
   "metadata": {
    "collapsed": false
   },
   "outputs": [],
   "source": [
    "# H alpha\n",
    "js,je=np.digitize([6560.0,6566.0],map(float,lambe))\n",
    "emin=js+np.argmin(spece[js:je])\n",
    "cmin=js+np.argmin(specc[js:je])\n",
    "wmin=js+np.argmin(specw[js:je])\n",
    "\n",
    "c=Decimal('299792.458')\n",
    "Vhalpha=float((lambw[wmin]-lambe[emin])/lambc[cmin]*c)"
   ]
  },
  {
   "cell_type": "code",
   "execution_count": 6,
   "metadata": {
    "collapsed": false
   },
   "outputs": [
    {
     "data": {
      "text/plain": [
       "42.6507203561432"
      ]
     },
     "execution_count": 6,
     "metadata": {},
     "output_type": "execute_result"
    }
   ],
   "source": [
    "Vhalpha"
   ]
  },
  {
   "cell_type": "code",
   "execution_count": 7,
   "metadata": {
    "collapsed": false
   },
   "outputs": [
    {
     "data": {
      "text/plain": [
       "(array([51534, 51564, 51691, 51770, 51801, 51832, 51851, 51981, 51997,\n",
       "        52024, 52042, 52086, 52116, 52166, 52227, 52323, 52394, 52411]),\n",
       " array([51563, 51592, 51719, 51798, 51829, 51840, 51861, 51880, 51968,\n",
       "        52010, 52026, 52052, 52070, 52115, 52145, 52196, 52256, 52351]))"
      ]
     },
     "execution_count": 7,
     "metadata": {},
     "output_type": "execute_result"
    }
   ],
   "source": [
    "ks,ke=np.digitize([8640,8660],map(float,rlambe))\n",
    "from detect_peaks import detect_peaks\n",
    "inde = detect_peaks(-rspece[ks:ke]+0.1, mph=0.04, mpd=10)+ks\n",
    "#indc = detect_peaks(-specc[ks:ke]+0.11, mph=0.05, mpd=10)+ks\n",
    "indw = detect_peaks(-rspecw[ks:ke]*0.5+0.1, mph=0.0382, mpd=10)+ks\n",
    "#Vch=float((lambw[indw[-1]]-lambe[inde[-1]])/lambc[indc[-1]]*c)\n",
    "inde,indw"
   ]
  },
  {
   "cell_type": "code",
   "execution_count": 8,
   "metadata": {
    "collapsed": true
   },
   "outputs": [],
   "source": [
    "inde=np.array([51534, 51564, 51691, 51770, 51801, 51832, 51851, 51981, 51997,\n",
    "        52024, 52042, 52086, 52116, 52166, 52227, 52323]);\n",
    "\n",
    "indw=np.array([51563, 51592, 51719, 51798, 51829, 51861, 51880,\n",
    "        52010, 52026, 52052, 52070, 52115, 52145, 52196, 52256, 52351]);"
   ]
  },
  {
   "cell_type": "code",
   "execution_count": 9,
   "metadata": {
    "collapsed": false
   },
   "outputs": [
    {
     "data": {
      "text/plain": [
       "21.1055200650181"
      ]
     },
     "execution_count": 9,
     "metadata": {},
     "output_type": "execute_result"
    }
   ],
   "source": [
    "jj=10\n",
    "Vch4=float((rlambw[indw[jj]]-rlambe[inde[jj]])/rlambc[int((inde[jj]-indw[jj])/2)]*c)\n",
    "Vch4"
   ]
  },
  {
   "cell_type": "code",
   "execution_count": 10,
   "metadata": {
    "collapsed": false
   },
   "outputs": [],
   "source": [
    "fig = plt.figure()\n",
    "ax=fig.add_subplot(211)\n",
    "pylab.xlim(6558,6568)\n",
    "pylab.ylim(0,6.0)\n",
    "\n",
    "ax.plot(lambe,spece*1.4+2.4,c=\"blue\")\n",
    "ax.plot(lambc,specc*1.8+1.2,c=\"green\")\n",
    "ax.plot(lambw,specw,c=\"red\")\n",
    "ax.plot([lambe[emin],lambw[wmin]], [spece[emin]*1.4+2.4,specw[wmin]],c=\"gray\",lw=0.5) #connected line\n",
    "\n",
    "ax.plot([lambe[emin]],[spece[emin]*1.4+2.4],\"o\",c=\"blue\")\n",
    "ax.plot([lambw[wmin]],[specw[wmin]],\"o\",c=\"red\")\n",
    "\n",
    "plt.annotate(s='', xy=(lambe[emin],5), xytext=(lambw[wmin],5), arrowprops=dict(arrowstyle='<->'))\n",
    "plt.annotate(s='42.7 km/s', xy=(lambe[emin],5), xytext=(lambe[emin],5.3))\n",
    "#ax.plot(lambw-(lambw[wmin]-lambe[emin]),specw)\n",
    "#ax.plot(lambe,spece*1.4)\n",
    "pylab.axvline(lambe[emin],ls=\"dotted\",c=\"blue\")\n",
    "#pylab.axvline(lambc[cmin],ls=\"dotted\",c=\"green\")\n",
    "pylab.axvline(lambw[wmin],ls=\"dotted\",c=\"red\")\n",
    "pylab.axvline(6564.2,ls=\"dotted\",c=\"gray\")\n",
    "plt.annotate(s='telluric', xy=(6563.8,5), xytext=(6563.8,5.3))\n",
    "\n",
    "#pylab.xlabel(\"wavelength [$\\AA$]\", fontsize=15)\n",
    "ax.tick_params(axis='x', labelsize=14)\n",
    "ax.tick_params(axis='y', labelsize=14)\n",
    "ax.xaxis.set_major_formatter(FormatStrFormatter('%.0f'))\n",
    "pylab.legend((\"East\",\"Center\",\"West\"))\n",
    "pylab.title(\"Jupiter\", fontsize=15)\n",
    "ax.annotate('H alpha', xy=(0.05, 0.8), xycoords='axes fraction', fontsize=16)\n",
    "\n",
    "ax=fig.add_subplot(212)\n",
    "pylab.xlim(8642,8656)\n",
    "pylab.ylim(0,0.6)\n",
    "for j in range(0,len(inde)):\n",
    "    ax.plot([rlambe[inde[j]],rlambw[indw[j]]], [rspece[inde[j]]+0.24,rspecw[indw[j]]*0.5],c=\"gray\",lw=0.5) \n",
    "ax.plot(rlambe,rspece+0.24,c=\"blue\")\n",
    "ax.plot(rlambc,rspecc+0.12,c=\"green\")\n",
    "ax.plot(rlambw,rspecw*0.5,c=\"red\")\n",
    "pylab.axvline(rlambe[inde[jj]],ls=\"dotted\",c=\"blue\")\n",
    "pylab.axvline(rlambw[indw[jj]],ls=\"dotted\",c=\"red\")\n",
    "ax.plot([rlambe[inde[jj]]],[rspece[inde[jj]]+0.24],\"o\",c=\"blue\")\n",
    "ax.plot([rlambw[indw[jj]]],[rspecw[indw[jj]]*0.5],\"o\",c=\"red\")\n",
    "plt.annotate(s='', xy=(rlambe[inde[jj]],0.5), xytext=(rlambw[indw[jj]],0.5), arrowprops=dict(arrowstyle='<->'))\n",
    "plt.annotate(s='21.1 km/s', xy=(rlambe[inde[jj]],0.5), xytext=(rlambe[inde[jj]],0.53))\n",
    "pylab.xlabel(\"wavelength [$\\AA$]\", fontsize=15)\n",
    "ax.tick_params(axis='x', labelsize=14)\n",
    "ax.tick_params(axis='y', labelsize=14)\n",
    "ax.xaxis.set_major_formatter(FormatStrFormatter('%.0f'))\n",
    "#pylab.legend((\"East\",\"Center\",\"West\"))\n",
    "ax.annotate('Methane 8650 band', xy=(0.05, 0.8), xycoords='axes fraction', fontsize=16)\n",
    "plt.savefig(\"jupref.pdf\")\n",
    "plt.show()"
   ]
  },
  {
   "cell_type": "code",
   "execution_count": 89,
   "metadata": {
    "collapsed": false
   },
   "outputs": [],
   "source": [
    "# ~ 4 Vrot"
   ]
  },
  {
   "cell_type": "code",
   "execution_count": 60,
   "metadata": {
    "collapsed": false
   },
   "outputs": [],
   "source": [
    "# other stellar lines ?\n",
    "ks,ke=np.digitize([6490,6502],map(float,lambe))\n",
    "from detect_peaks import detect_peaks\n",
    "inde = detect_peaks(-spece[ks:ke]/1.8*1.5+1, mph=0.45, mpd=10)+ks\n",
    "indc = detect_peaks(-specc[ks:ke]+1, mph=0.5, mpd=10)+ks\n",
    "indw = detect_peaks(-specw[ks:ke]/1.8+1, mph=0.45, mpd=10)+ks\n",
    "Vam=float((lambw[indw[-1]]-lambe[inde[-1]])/lambc[indc[-1]]*c)"
   ]
  },
  {
   "cell_type": "code",
   "execution_count": 63,
   "metadata": {
    "collapsed": false
   },
   "outputs": [],
   "source": [
    "fig = plt.figure()\n",
    "ax=fig.add_subplot(111)\n",
    "pylab.xlim(6490,6502)\n",
    "pylab.ylim(0,6.0)\n",
    "ax.plot(lambe,spece*1.4+2.4)\n",
    "ax.plot(lambc,specc*1.8+1.2)\n",
    "ax.plot(lambw,specw)\n",
    "pylab.axvline(lambe[inde[-1]],ls=\"dotted\",c=\"blue\")\n",
    "#pylab.axvline(lambc[cmin],ls=\"dotted\",c=\"green\")\n",
    "pylab.axvline(lambw[indw[-1]],ls=\"dotted\",c=\"red\")\n",
    "for j in range(0,5):\n",
    "    ax.plot([lambe[inde[j]],lambw[indw[j]]], [spece[inde[j]]*1.4+2.4,specw[indw[j]]],c=\"gray\",ls=\"dashed\") \n",
    "#ax.plot(lambe[inde],spece[inde]*1.4+2.4,\".\",c=\"blue\")\n",
    "#ax.plot(lambc[indc],specc[indc]*1.8+1.2,\".\",c=\"green\")\n",
    "#ax.plot(lambw[indw],specw[indw],\".\",c=\"red\")\n",
    "pylab.axvline(lambe[emin],ls=\"dashed\",c=\"blue\")\n",
    "pylab.axvline(lambc[cmin],ls=\"dotted\",c=\"green\")\n",
    "pylab.axvline(lambw[wmin],ls=\"dashed\",c=\"red\")\n",
    "pylab.xlabel(\"wavelength [$\\AA$]\", fontsize=15)\n",
    "ax.tick_params(axis='x', labelsize=14)\n",
    "ax.tick_params(axis='y', labelsize=14)\n",
    "ax.xaxis.set_major_formatter(FormatStrFormatter('%.0f'))\n",
    "#pylab.legend((\"East\",\"Center\",\"West\"))\n",
    "ax.annotate('?', xy=(0.05, 0.8), xycoords='axes fraction', fontsize=16)\n",
    "\n",
    "plt.show()\n"
   ]
  },
  {
   "cell_type": "code",
   "execution_count": null,
   "metadata": {
    "collapsed": true
   },
   "outputs": [],
   "source": []
  }
 ],
 "metadata": {
  "kernelspec": {
   "display_name": "Python [Root]",
   "language": "python",
   "name": "Python [Root]"
  },
  "language_info": {
   "codemirror_mode": {
    "name": "ipython",
    "version": 2
   },
   "file_extension": ".py",
   "mimetype": "text/x-python",
   "name": "python",
   "nbconvert_exporter": "python",
   "pygments_lexer": "ipython2",
   "version": "2.7.12"
  }
 },
 "nbformat": 4,
 "nbformat_minor": 0
}
